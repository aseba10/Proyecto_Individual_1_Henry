{
 "cells": [
  {
   "cell_type": "code",
   "execution_count": null,
   "metadata": {},
   "outputs": [],
   "source": [
    "#importo librerías\n",
    "\n",
    "import pandas as pd\n",
    "from fastapi import FastAPI\n",
    "import ast\n"
   ]
  },
  {
   "cell_type": "code",
   "execution_count": null,
   "metadata": {},
   "outputs": [],
   "source": [
    "#cardo los datasets\n",
    "\n",
    "credits = pd.read_csv(\"Dataset/credits.csv\")\n",
    "\n",
    "movies_dataset = pd.read_excel(\"Dataset/movies_dataset.xlsx\")"
   ]
  },
  {
   "cell_type": "code",
   "execution_count": null,
   "metadata": {},
   "outputs": [],
   "source": [
    "# TRANSFORMACIONES - Primer Transformación, desanidar columnas\n",
    "\n",
    "\n",
    "def convert(obj):\n",
    "    if isinstance(obj, str) and '{' in obj: \n",
    "        L=[]\n",
    "        for i in ast.literal_eval(obj): \n",
    "            L.append(i['name']); \n",
    "        return L\n",
    "\n",
    "\n",
    "\n",
    "def convert2(obj):\n",
    "    if isinstance(obj, str) and '{' in obj:\n",
    "        dic = ast.literal_eval(obj)\n",
    "        return dic['name']\n",
    "\n"
   ]
  },
  {
   "cell_type": "code",
   "execution_count": null,
   "metadata": {},
   "outputs": [],
   "source": [
    "movies_dataset['genres'] = movies_dataset['genres'].apply(convert)\n",
    "movies_dataset['belongs_to_collection'] = movies_dataset['belongs_to_collection'].apply(convert2)\n",
    "movies_dataset['production_companies'] = movies_dataset['production_companies'].apply(convert)\n",
    "movies_dataset['production_countries'] = movies_dataset['production_countries'].apply(convert)\n",
    "movies_dataset['spoken_languages'] = movies_dataset['spoken_languages'].apply(convert)"
   ]
  },
  {
   "cell_type": "code",
   "execution_count": null,
   "metadata": {},
   "outputs": [],
   "source": [
    "# Siguientes transformaciones, completar los faltantes son 0 en las columnas revenue y budget\n",
    "\n",
    "movies_dataset[\"revenue\"] = movies_dataset[\"revenue\"].fillna(0)\n",
    "movies_dataset[\"budget\"] = movies_dataset[\"budget\"].fillna(0)\n"
   ]
  },
  {
   "cell_type": "code",
   "execution_count": null,
   "metadata": {},
   "outputs": [],
   "source": [
    "# Eliminar valores nulos en la columna \"release_date\"\n",
    "movies_dataset.dropna(subset=[\"release_date\"], inplace=True)\n",
    "\n",
    "# Convertir la columna de fecha al formato de fecha de Pandas\n",
    "movies_dataset['release_date'] = pd.to_datetime(movies_dataset['release_date'], errors='coerce')\n",
    "\n",
    "# Crear la columna \"release_year\" con el año de la fecha\n",
    "movies_dataset['release_year'] = movies_dataset['release_date'].dt.year\n",
    "\n"
   ]
  },
  {
   "cell_type": "code",
   "execution_count": null,
   "metadata": {},
   "outputs": [],
   "source": [
    "#Crear la columna con el retorno de inversión, llamada return con los campos revenue y budget, dividiendo estas dos últimas revenue / budget,\n",
    "#cuando no hay datos disponibles para calcularlo, deberá tomar el valor 0.\n",
    "\n",
    "# Definir la función para calcular el retorno de inversión\n",
    "def calculate_return(row):\n",
    "    \n",
    "    if row['budget'] == 0:\n",
    "        return 0\n",
    "    \n",
    "    elif row[\"revenue\"] == 0:\n",
    "        return 0\n",
    "    \n",
    "    else:\n",
    "        return row['revenue'] / row['budget']\n",
    "    \n",
    "\n",
    "\n",
    "movies_dataset['return'] = movies_dataset.apply(calculate_return, axis=1)\n",
    "\n"
   ]
  },
  {
   "cell_type": "code",
   "execution_count": null,
   "metadata": {},
   "outputs": [],
   "source": [
    "\n",
    "# Elimino columnas no utilizadas\n",
    "movies_dataset = movies_dataset.drop(columns = [\"video\",\"imdb_id\",\"adult\",\"original_title\",\"poster_path\",\"homepage\"])"
   ]
  },
  {
   "cell_type": "code",
   "execution_count": null,
   "metadata": {},
   "outputs": [],
   "source": [
    "# hago un duplicado del df para trabajar mejor\n",
    "credits2 = credits\n",
    "\n",
    "credits2 = credits2.drop(columns=[\"cast\"])\n",
    "\n",
    "credits2[\"crew\"] = credits2[\"crew\"].apply(ast.literal_eval)"
   ]
  },
  {
   "cell_type": "code",
   "execution_count": null,
   "metadata": {},
   "outputs": [],
   "source": [
    "# extraigo los nombres de los directores de cada pelicula  y los pongo en una lista. Luego cambio los valores de la columna crew por esas listas\n",
    "\n",
    "def obtener_nombres_directores(lista):\n",
    "    nombres_directores = []\n",
    "    if isinstance(lista, list):\n",
    "        for diccionario in lista:\n",
    "            if isinstance(diccionario, dict) and diccionario.get(\"job\") == \"Director\":\n",
    "                nombre_director = diccionario.get(\"name\")\n",
    "                if nombre_director:\n",
    "                    nombres_directores.append(nombre_director)\n",
    "    return nombres_directores"
   ]
  },
  {
   "cell_type": "code",
   "execution_count": null,
   "metadata": {},
   "outputs": [],
   "source": [
    "credits2[\"crew\"] = credits2[\"crew\"].apply(obtener_nombres_directores)"
   ]
  },
  {
   "cell_type": "code",
   "execution_count": null,
   "metadata": {},
   "outputs": [],
   "source": [
    "# hacemos un merge para combinar las dataframe\n",
    "\n",
    "movies_dataset_merged = movies_dataset.merge(credits2, on=\"id\")"
   ]
  },
  {
   "cell_type": "code",
   "execution_count": null,
   "metadata": {},
   "outputs": [],
   "source": [
    "movies_dataset_merged.head()"
   ]
  },
  {
   "cell_type": "code",
   "execution_count": null,
   "metadata": {},
   "outputs": [],
   "source": [
    "movies_dataset_merged.to_csv('Dataset/df.csv', index=False)\n"
   ]
  }
 ],
 "metadata": {
  "kernelspec": {
   "display_name": "Python 3",
   "language": "python",
   "name": "python3"
  },
  "language_info": {
   "codemirror_mode": {
    "name": "ipython",
    "version": 3
   },
   "file_extension": ".py",
   "mimetype": "text/x-python",
   "name": "python",
   "nbconvert_exporter": "python",
   "pygments_lexer": "ipython3",
   "version": "3.11.3"
  },
  "orig_nbformat": 4
 },
 "nbformat": 4,
 "nbformat_minor": 2
}
